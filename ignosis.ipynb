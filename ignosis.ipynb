{
  "nbformat": 4,
  "nbformat_minor": 0,
  "metadata": {
    "colab": {
      "provenance": [],
      "authorship_tag": "ABX9TyPgMgd/EDu1bNhUB5a2r96y",
      "include_colab_link": true
    },
    "kernelspec": {
      "name": "python3",
      "display_name": "Python 3"
    },
    "language_info": {
      "name": "python"
    }
  },
  "cells": [
    {
      "cell_type": "markdown",
      "metadata": {
        "id": "view-in-github",
        "colab_type": "text"
      },
      "source": [
        "<a href=\"https://colab.research.google.com/github/Tanmayjagnade/IGnosis-task/blob/main/ignosis.ipynb\" target=\"_parent\"><img src=\"https://colab.research.google.com/assets/colab-badge.svg\" alt=\"Open In Colab\"/></a>"
      ]
    },
    {
      "cell_type": "code",
      "execution_count": 1,
      "metadata": {
        "id": "MpUjEpEgT0NF"
      },
      "outputs": [],
      "source": [
        "import pandas as pd"
      ]
    },
    {
      "cell_type": "code",
      "source": [
        "purchase_file = \"/content/purchase_behaviour.csv\"\n",
        "transaction_file = \"/content/transaction_data.csv\""
      ],
      "metadata": {
        "id": "FzvCxYfwT68S"
      },
      "execution_count": 2,
      "outputs": []
    },
    {
      "cell_type": "code",
      "source": [
        "\n",
        "df_purchase = pd.read_csv(purchase_file)\n",
        "df_transaction = pd.read_csv(transaction_file)\n"
      ],
      "metadata": {
        "id": "o2aS13rzT7G6"
      },
      "execution_count": 3,
      "outputs": []
    },
    {
      "cell_type": "code",
      "source": [
        "top_products = (\n",
        "    df_transaction.groupby(['PROD_NBR', 'PROD_NAME'])['TOT_SALES']\n",
        "    .sum()\n",
        "    .reset_index()\n",
        "    .sort_values(by='TOT_SALES', ascending=False)\n",
        "    .head(3)\n",
        ")\n"
      ],
      "metadata": {
        "id": "0mEJX65JT7Qc"
      },
      "execution_count": 4,
      "outputs": []
    },
    {
      "cell_type": "code",
      "source": [
        "# Identifying loyal customers (highest transaction frequency)\n",
        "loyal_customers = (\n",
        "    df_transaction.groupby('LYLTY_CARD_NBR')['TXN_ID']\n",
        "    .count()\n",
        "    .reset_index()\n",
        "    .rename(columns={'TXN_ID': 'TXN_COUNT'})\n",
        "    .sort_values(by='TXN_COUNT', ascending=False)\n",
        ")\n"
      ],
      "metadata": {
        "id": "xF_LkT2lT7cG"
      },
      "execution_count": 5,
      "outputs": []
    },
    {
      "cell_type": "code",
      "source": [
        "df_loyal_customers = loyal_customers.merge(df_purchase, on='LYLTY_CARD_NBR', how='left')\n",
        "\n",
        "# Analyzing the most common customer segment among loyal customers\n",
        "loyal_customer_segments = (\n",
        "    df_loyal_customers.groupby(['LIFESTAGE', 'PREMIUM_CUSTOMER'])['TXN_COUNT']\n",
        "    .sum()\n",
        "    .reset_index()\n",
        "    .sort_values(by='TXN_COUNT', ascending=False)\n",
        "    .head(3)\n",
        ")\n"
      ],
      "metadata": {
        "id": "ZSRVaFVqUuFi"
      },
      "execution_count": 6,
      "outputs": []
    },
    {
      "cell_type": "code",
      "source": [
        "print(\"Top 3 Most Profitable Products:\")\n",
        "print(top_products)"
      ],
      "metadata": {
        "colab": {
          "base_uri": "https://localhost:8080/"
        },
        "id": "_fFgBwAqU1zO",
        "outputId": "8013e162-665e-43f9-ab0e-b61cc54cad23"
      },
      "execution_count": 7,
      "outputs": [
        {
          "output_type": "stream",
          "name": "stdout",
          "text": [
            "Top 3 Most Profitable Products:\n",
            "    PROD_NBR                                 PROD_NAME  TOT_SALES\n",
            "3          4          Dorito Corn Chp     Supreme 380g    40352.0\n",
            "13        14    Smiths Crnkle Chip  Orgnl Big Bag 380g    36367.6\n",
            "15        16  Smiths Crinkle Chips Salt & Vinegar 330g    34804.2\n"
          ]
        }
      ]
    },
    {
      "cell_type": "code",
      "source": [
        "print(\"\\nMost Loyal Customer Segments:\")\n",
        "print(loyal_customer_segments)"
      ],
      "metadata": {
        "colab": {
          "base_uri": "https://localhost:8080/"
        },
        "id": "GYyVuo_xVD-w",
        "outputId": "0d2c643e-934a-45fa-a43c-65ceb0228a19"
      },
      "execution_count": 8,
      "outputs": [
        {
          "output_type": "stream",
          "name": "stdout",
          "text": [
            "\n",
            "Most Loyal Customer Segments:\n",
            "                LIFESTAGE PREMIUM_CUSTOMER  TXN_COUNT\n",
            "6          OLDER FAMILIES           Budget      23160\n",
            "13               RETIREES       Mainstream      21466\n",
            "19  YOUNG SINGLES/COUPLES       Mainstream      20854\n"
          ]
        }
      ]
    }
  ]
}